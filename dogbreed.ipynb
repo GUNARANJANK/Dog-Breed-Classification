{
 "cells": [
  {
   "cell_type": "code",
   "execution_count": 1,
   "metadata": {},
   "outputs": [
    {
     "name": "stdout",
     "output_type": "stream",
     "text": [
      "1/1 [==============================] - 4s 4s/step\n",
      "Predictions:\n",
      "1: Labrador_retriever (0.90)\n",
      "2: golden_retriever (0.08)\n",
      "3: clumber (0.00)\n"
     ]
    }
   ],
   "source": [
    "import tensorflow as tf\n",
    "from tensorflow.keras.preprocessing import image\n",
    "\n",
    "from tensorflow.keras.applications.mobilenet_v2 import MobileNetV2, preprocess_input, decode_predictions\n",
    "import numpy as np\n",
    "\n",
    "model = MobileNetV2(weights='imagenet')\n",
    "\n",
    "def preprocess_image(img_path):\n",
    "    img = image.load_img(img_path, target_size=(224, 224))\n",
    "    img_array = image.img_to_array(img)\n",
    "    img_array = np.expand_dims(img_array, axis=0)\n",
    "    return preprocess_input(img_array)\n",
    "\n",
    "def classify_dog_breed(img_path):\n",
    "\n",
    "    processed_image = preprocess_image(img_path)\n",
    "\n",
    "\n",
    "    predictions = model.predict(processed_image)\n",
    "\n",
    "    decoded_predictions = decode_predictions(predictions, top=3)[0]\n",
    "    print(\"Predictions:\")\n",
    "    for i, (imagenet_id, label, score) in enumerate(decoded_predictions):\n",
    "        print(f\"{i + 1}: {label} ({score:.2f})\")\n",
    "\n",
    "image_path = r'D:\\New folder\\OIP.jpg'\n",
    "classify_dog_breed(image_path)\n"
   ]
  }
 ],
 "metadata": {
  "kernelspec": {
   "display_name": "Python 3",
   "language": "python",
   "name": "python3"
  },
  "language_info": {
   "codemirror_mode": {
    "name": "ipython",
    "version": 3
   },
   "file_extension": ".py",
   "mimetype": "text/x-python",
   "name": "python",
   "nbconvert_exporter": "python",
   "pygments_lexer": "ipython3",
   "version": "3.11.5"
  }
 },
 "nbformat": 4,
 "nbformat_minor": 2
}
